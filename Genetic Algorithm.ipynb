{
 "cells": [
  {
   "cell_type": "markdown",
   "metadata": {},
   "source": [
    "# Question 1: Exploring a Simple Genetic Algorithm"
   ]
  },
  {
   "cell_type": "code",
   "execution_count": 1,
   "metadata": {},
   "outputs": [],
   "source": [
    "import random"
   ]
  },
  {
   "cell_type": "code",
   "execution_count": 2,
   "metadata": {},
   "outputs": [],
   "source": [
    "def take_input():\n",
    "    print('4 <= Population Size <= 10')\n",
    "    populationSize = int(input('Enter population size : '))\n",
    "    length = int(input('Enter length of chromosome :'))\n",
    "    return populationSize,length"
   ]
  },
  {
   "cell_type": "code",
   "execution_count": 3,
   "metadata": {},
   "outputs": [],
   "source": [
    "def generate_initial_pop(populationSize,length):\n",
    "    initialPopulation = []\n",
    "\n",
    "    for i in range(populationSize):\n",
    "        temp = []\n",
    "\n",
    "        x = pow(2,length)-1\n",
    "        randNum = random.randint(0, x)\n",
    "        temp.append(randNum)\n",
    "        randNum = bin(randNum)\n",
    "        randNum = randNum[2:]\n",
    "        while len(randNum) < length :\n",
    "            randNum = '0' + randNum\n",
    "        temp.append(randNum)\n",
    "\n",
    "        initialPopulation.append(temp)\n",
    "    \n",
    "    return initialPopulation"
   ]
  },
  {
   "cell_type": "code",
   "execution_count": 4,
   "metadata": {},
   "outputs": [],
   "source": [
    "def selection_using_fitness_func(initialPopulation):\n",
    "\n",
    "    selectedPopulation = []\n",
    "    index = 0\n",
    "    \n",
    "    min_ = initialPopulation[0][0]\n",
    "\n",
    "    for i in range(1,len(initialPopulation)):\n",
    "        if min_ > initialPopulation[i][0]:\n",
    "            min_ = initialPopulation[i][0]\n",
    "            index = i\n",
    "\n",
    "    initialPopulation.pop(index)\n",
    "\n",
    "    randNum = random.randint(0, len(initialPopulation)-1)\n",
    "\n",
    "    initialPopulation.append(initialPopulation[randNum])\n",
    "    \n",
    "    for i in range(len(initialPopulation)):\n",
    "        selectedPopulation.append(initialPopulation[i][1])\n",
    "        \n",
    "        \n",
    "    return selectedPopulation"
   ]
  },
  {
   "cell_type": "code",
   "execution_count": 5,
   "metadata": {},
   "outputs": [],
   "source": [
    "def crossover(selectedPopulation):\n",
    "\n",
    "    crossoverPoint = int(len(selectedPopulation[0])/2)\n",
    "    #print('CrossoverPoint : ' ,crossoverPoint)\n",
    "    \n",
    "    if len(selectedPopulation)%2 == 0:\n",
    "        for i in range(0,len(selectedPopulation),2):\n",
    "\n",
    "            temp1 = selectedPopulation[i]\n",
    "            temp2 = selectedPopulation[i+1]\n",
    "            selectedPopulation[i] = temp1[:crossoverPoint] + temp2[crossoverPoint:]\n",
    "            selectedPopulation[i+1] = temp2[:crossoverPoint] + temp1[crossoverPoint:]\n",
    "    else:\n",
    "        for i in range(0,len(selectedPopulation)-1,2):\n",
    "\n",
    "            temp1 = selectedPopulation[i]\n",
    "            temp2 = selectedPopulation[i+1]\n",
    "            selectedPopulation[i] = temp1[:crossoverPoint] + temp2[crossoverPoint:]\n",
    "            selectedPopulation[i+1] = temp2[:crossoverPoint] + temp1[crossoverPoint:]\n",
    "\n",
    "        randNum = random.randint(0, len(selectedPopulation)-1)\n",
    "        \n",
    "        temp1 = selectedPopulation[len(selectedPopulation)-1]\n",
    "        temp2 = selectedPopulation[randNum]\n",
    "        selectedPopulation[len(selectedPopulation)-1] = temp1[:crossoverPoint] + temp2[crossoverPoint:]\n",
    "        \n",
    "    return selectedPopulation"
   ]
  },
  {
   "cell_type": "code",
   "execution_count": 6,
   "metadata": {},
   "outputs": [],
   "source": [
    "def mutate_single_bit(selectedPopulation):\n",
    "    \n",
    "    for i in range(len(selectedPopulation)-1):\n",
    "\n",
    "        mutatedString = selectedPopulation[i]\n",
    "\n",
    "        x = len(mutatedString)-1\n",
    "        \n",
    "        randombit = random.randint(1,x)\n",
    "\n",
    "        if mutatedString[randombit] == '0':\n",
    "            selectedPopulation[i] = mutatedString[:randombit] + '1' + mutatedString[randombit+1:]\n",
    "            \n",
    "        elif mutatedString[randombit] == '1':\n",
    "            randombit = random.randint(1,x)\n",
    "            selectedPopulation[i] = mutatedString[:randombit] + '1' + mutatedString[randombit+1:]\n",
    "    \n",
    "    return selectedPopulation"
   ]
  },
  {
   "cell_type": "code",
   "execution_count": 7,
   "metadata": {},
   "outputs": [],
   "source": [
    "def initial_iteration(generation):\n",
    "    \n",
    "    populationSize,len_ = take_input()\n",
    "    print('\\nPopulation Size : ',populationSize)\n",
    "    print('\\nLength of chromosome : ',len_)\n",
    "    \n",
    "    initialPopulation = generate_initial_pop(populationSize,len_)\n",
    "    print('\\nInitial Population\\n',initialPopulation)\n",
    "    \n",
    "    selectedPopulation = selection_using_fitness_func(initialPopulation)\n",
    "    #print('\\nSelected Population\\n',selectedPopulation)\n",
    "    \n",
    "    crossoverPopulation = crossover(selectedPopulation)\n",
    "    #print('\\nCrossed Over\\n',crossoverPopulation)\n",
    "    \n",
    "    mutatedPopulation = mutate_single_bit(crossoverPopulation)\n",
    "    print(f'\\nGeneration : {generation}\\n',mutatedPopulation)\n",
    "    \n",
    "    return mutatedPopulation"
   ]
  },
  {
   "cell_type": "code",
   "execution_count": 8,
   "metadata": {},
   "outputs": [],
   "source": [
    "def generations(generation,mutatedPopulation,len_):\n",
    "    \n",
    "    for i in mutatedPopulation:\n",
    "        i = int(i,2)\n",
    "        x = pow(2,len_)-1\n",
    "        if i == x:\n",
    "            print('\\nTotal number of generations : ',generation)\n",
    "            return mutatedPopulation\n",
    "        \n",
    "    initialPopulation = []\n",
    "    for i in mutatedPopulation:\n",
    "        temp = []\n",
    "        temp.append(int(i,2))\n",
    "        temp.append(i)\n",
    "        \n",
    "        initialPopulation.append(temp)\n",
    "\n",
    "    selectedPopulation = selection_using_fitness_func(initialPopulation)\n",
    "    #print('\\nSelected Population\\n',selectedPopulation)\n",
    "    \n",
    "    crossoverPopulation = crossover(selectedPopulation)\n",
    "    #print('\\nCrossed Over\\n',crossoverPopulation)\n",
    "    \n",
    "    mutatedPopulation = mutate_single_bit(crossoverPopulation)\n",
    "    print(f'\\nGeneration : {generation+1}\\n',mutatedPopulation)    \n",
    "\n",
    "    mutatedPopulation = generations(generation+1,mutatedPopulation,len_)"
   ]
  },
  {
   "cell_type": "code",
   "execution_count": 9,
   "metadata": {},
   "outputs": [],
   "source": [
    "def main():\n",
    "    generation = 1\n",
    "    initialPop = initial_iteration(generation)\n",
    "    mutatedPop = generations(generation,initialPop,len(initialPop[0]))"
   ]
  },
  {
   "cell_type": "code",
   "execution_count": 12,
   "metadata": {},
   "outputs": [
    {
     "name": "stdout",
     "output_type": "stream",
     "text": [
      "4 <= Population Size <= 10\n",
      "Enter population size : 6\n",
      "Enter length of chromosome :9\n",
      "\n",
      "Population Size :  6\n",
      "\n",
      "Length of chromosome :  9\n",
      "\n",
      "Initial Population\n",
      " [[466, '111010010'], [273, '100010001'], [233, '011101001'], [50, '000110010'], [510, '111111110'], [252, '011111100']]\n",
      "\n",
      "Generation : 1\n",
      " ['111010101', '101010010', '011111110', '111111001', '011111110', '111111100']\n",
      "\n",
      "Generation : 2\n",
      " ['111110010', '101110101', '111111110', '011111001', '111111001', '111111100']\n",
      "\n",
      "Generation : 3\n",
      " ['111110111', '101110011', '111111001', '111111110', '111111110', '111111100']\n",
      "\n",
      "Generation : 4\n",
      " ['111111011', '111110111', '111111110', '111111110', '111111001', '111111100']\n",
      "\n",
      "Generation : 5\n",
      " ['111111110', '111111011', '111111011', '111111111', '111111100', '111111100']\n",
      "\n",
      "Total number of generations :  5\n"
     ]
    }
   ],
   "source": [
    "main()"
   ]
  },
  {
   "cell_type": "code",
   "execution_count": null,
   "metadata": {},
   "outputs": [],
   "source": []
  }
 ],
 "metadata": {
  "kernelspec": {
   "display_name": "Python 3",
   "language": "python",
   "name": "python3"
  },
  "language_info": {
   "codemirror_mode": {
    "name": "ipython",
    "version": 3
   },
   "file_extension": ".py",
   "mimetype": "text/x-python",
   "name": "python",
   "nbconvert_exporter": "python",
   "pygments_lexer": "ipython3",
   "version": "3.7.3"
  }
 },
 "nbformat": 4,
 "nbformat_minor": 2
}
